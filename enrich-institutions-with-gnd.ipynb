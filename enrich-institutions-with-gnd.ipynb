{
 "cells": [
  {
   "cell_type": "code",
   "execution_count": 3,
   "metadata": {
    "collapsed": true
   },
   "outputs": [],
   "source": [
    "import requests\n",
    "import json"
   ]
  },
  {
   "cell_type": "code",
   "execution_count": 7,
   "metadata": {
    "collapsed": true
   },
   "outputs": [],
   "source": [
    "#iterates over all instituions, sends a post request to stanbol endpoint and saves the result(if there is one)\n",
    "good = []\n",
    "bad = []\n",
    "for x in Institution.objects.all():\n",
    "    data = {'limit': 20,\n",
    "        'constraints': [\n",
    "            {'type': 'text',\n",
    "            'field': 'http://www.w3.org/2000/01/rdf-schema#label',\n",
    "            'text': x.name\n",
    "            },]}\n",
    "    data = json.dumps(data)\n",
    "    try:\n",
    "        r = requests.post('http://stanbol.herkules.arz.oeaw.ac.at/entityhub/site/gndCorporateBody/query',\n",
    "                          data = data, headers = {'content-type': 'application/json'})\n",
    "        hit = r.json()\n",
    "        result = {'gnd-id':hit['results'][0]['id'], 'inst':x}\n",
    "        good.append(result)\n",
    "    except:\n",
    "        bad.append(x.name)\n",
    "    "
   ]
  },
  {
   "cell_type": "code",
   "execution_count": 9,
   "metadata": {
    "collapsed": false
   },
   "outputs": [],
   "source": [
    "#iterates over the previously created list of results and updates Instant object with gnd-id\n",
    "for x in good:\n",
    "    x['inst'].gnd_id=x['gnd-id']\n",
    "    x['inst'].save()"
   ]
  },
  {
   "cell_type": "code",
   "execution_count": 8,
   "metadata": {
    "collapsed": false
   },
   "outputs": [
    {
     "data": {
      "text/plain": [
       "161"
      ]
     },
     "execution_count": 8,
     "metadata": {},
     "output_type": "execute_result"
    }
   ],
   "source": [
    "len(good)"
   ]
  },
  {
   "cell_type": "code",
   "execution_count": null,
   "metadata": {
    "collapsed": true
   },
   "outputs": [],
   "source": []
  }
 ],
 "metadata": {
  "kernelspec": {
   "display_name": "Django Shell-Plus",
   "language": "python",
   "name": "django_extensions"
  },
  "language_info": {
   "codemirror_mode": {
    "name": "ipython",
    "version": 3
   },
   "file_extension": ".py",
   "mimetype": "text/x-python",
   "name": "python",
   "nbconvert_exporter": "python",
   "pygments_lexer": "ipython3",
   "version": "3.4.4"
  }
 },
 "nbformat": 4,
 "nbformat_minor": 0
}
