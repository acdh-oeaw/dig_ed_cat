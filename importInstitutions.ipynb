{
 "cells": [
  {
   "cell_type": "code",
   "execution_count": 159,
   "metadata": {
    "collapsed": true
   },
   "outputs": [],
   "source": [
    "import csv, re, requests, json"
   ]
  },
  {
   "cell_type": "code",
   "execution_count": 160,
   "metadata": {
    "collapsed": false
   },
   "outputs": [
    {
     "data": {
      "text/plain": [
       "0"
      ]
     },
     "execution_count": 160,
     "metadata": {},
     "output_type": "execute_result"
    }
   ],
   "source": [
    "len(Place.objects.all())"
   ]
  },
  {
   "cell_type": "code",
   "execution_count": 161,
   "metadata": {
    "collapsed": false
   },
   "outputs": [],
   "source": [
    "for x in Place.objects.all():\n",
    "    x.delete()\n",
    "for x in Institution.objects.all():\n",
    "    x.delete()"
   ]
  },
  {
   "cell_type": "code",
   "execution_count": 162,
   "metadata": {
    "collapsed": true
   },
   "outputs": [],
   "source": [
    "# fetch data directly from github\n",
    "# see http://stackoverflow.com/questions/35371043/use-python-requests-to-download-csv\n",
    "url = 'https://raw.githubusercontent.com/gfranzini/digEds_cat/master/digEds_cat_spatial.csv'\n",
    "with requests.Session() as s:\n",
    "    download = s.get(url)\n",
    "    decoded_content = download.content.decode('utf-8')\n",
    "    cr = csv.reader(decoded_content.splitlines(), delimiter=',')\n",
    "    datalist = list(cr)"
   ]
  },
  {
   "cell_type": "code",
   "execution_count": 163,
   "metadata": {
    "collapsed": true
   },
   "outputs": [],
   "source": [
    "#load local copy of data\n",
    "#file = \"data/digEds_cat_spatial.csv\"\n",
    "#with open(file, 'r', encoding='utf-8') as data:\n",
    "    #reader = csv.reader(data)\n",
    "    #datalist = list(reader)"
   ]
  },
  {
   "cell_type": "code",
   "execution_count": 164,
   "metadata": {
    "collapsed": false
   },
   "outputs": [],
   "source": [
    "#iterats over rows in csv. sends for each lng-lat a request to geonames \n",
    "# api to fetch matching places (and the countries they are located in) \n",
    "# creates Place objects and Institution objects, relats and stores them in db.\n",
    "root = \"http://api.geonames.org/findNearbyPlaceNameJSON?lat=\"\n",
    "geoname_jsons = []\n",
    "for row in datalist:\n",
    "    if row[1] != \"\" and row[1] != \"Latitude\":\n",
    "        lat, lng = format(float(row[1]), '.3f'), format(float(row[2]), '.3f')\n",
    "        params = \"{}&lng={}&username=digitalarchiv\".format(lat, lng)\n",
    "        url = root + params\n",
    "        r = requests.get(url)\n",
    "        x =  r.json()\n",
    "        if len(x[\"geonames\"]) >= 1:\n",
    "            place_dict = x[\"geonames\"][0]\n",
    "            temp_country, _ = Place.objects.get_or_create(geonames_id=place_dict[\"countryId\"],\n",
    "                                                         name=place_dict[\"countryName\"])\n",
    "            temp_country.save()\n",
    "            temp_country.place_type = \"country\"\n",
    "            temp_country.save()\n",
    "            temp_place, _ = Place.objects.get_or_create(geonames_id=place_dict[\"geonameId\"],\n",
    "                                                        name=place_dict[\"name\"],\n",
    "                                                        place_type=\"city\",\n",
    "                                                        lat=place_dict[\"lat\"],\n",
    "                                                        lng=place_dict[\"lng\"])\n",
    "            temp_place.part_of = temp_country\n",
    "            temp_place.save()\n",
    "            temp_inst, _ = Institution.objects.get_or_create(name=row[0])\n",
    "            temp_inst.lat = row[1]\n",
    "            temp_inst.lng = row[2]\n",
    "            temp_inst.save()\n",
    "            temp_inst.place = temp_place\n",
    "            temp_inst.save()"
   ]
  },
  {
   "cell_type": "code",
   "execution_count": 165,
   "metadata": {
    "collapsed": false
   },
   "outputs": [
    {
     "name": "stdout",
     "output_type": "stream",
     "text": [
      "Countries created:  23\n",
      "Places created:  116\n",
      "Institutions created:  124\n"
     ]
    }
   ],
   "source": [
    "print(\"Countries created: \", len(Place.objects.filter(place_type=\"country\")))\n",
    "print(\"Places created: \", len(Place.objects.filter(place_type=\"city\")))\n",
    "print(\"Institutions created: \", len(Institution.objects.all()) )"
   ]
  },
  {
   "cell_type": "code",
   "execution_count": 166,
   "metadata": {
    "collapsed": false
   },
   "outputs": [
    {
     "name": "stdout",
     "output_type": "stream",
     "text": [
      "Australia, country, 2077456, None\n",
      "Canberra, city, 2172517, Australia\n",
      "Austria, country, 2782113, None\n",
      "Andräviertel, city, 6941547, Austria\n",
      "Innere Stadt, city, 2775260, Austria\n",
      "Spain, country, 2510769, None\n",
      "Santsoena, city, 3110032, Spain\n",
      "Belgium, country, 2802361, None\n",
      "Kerkeveld, city, 2794549, Belgium\n",
      "Ghent, city, 2797656, Belgium\n",
      "Canada, country, 6251999, None\n",
      "Barkers Point, city, 5893060, Canada\n",
      "Montgomery, city, 6077007, Canada\n",
      "United States, country, 6252001, None\n",
      "New Brunswick, city, 5101717, United States\n",
      "Sand Pits, city, 6140443, Canada\n",
      "Croatia, country, 3202326, None\n",
      "Zagreb- Donji Grad, city, 10286588, Croatia\n",
      "Denmark, country, 2623032, None\n",
      "Nyhavn, city, 2615979, Denmark\n",
      "Egypt, country, 357994, None\n",
      "Saint Catherine, city, 8521413, Egypt\n",
      "Finland, country, 660013, None\n",
      "Kruununhaka, city, 650744, Finland\n",
      "France, country, 3017382, None\n",
      "Paris 12 Ancien - Quartier Saint-Marcel, city, 9843572, France\n",
      "La Mouche, city, 3007992, France\n",
      "Auteuil, city, 6545275, France\n",
      "Austerlitz, city, 6545265, France\n",
      "Germany, country, 2921044, None\n",
      "Münster, city, 2867543, Germany\n",
      "Göttingen, city, 2918632, Germany\n",
      "Göggingen, city, 2919525, Germany\n",
      "Wurzburg, city, 2805615, Germany\n",
      "Tübingen, city, 2820860, Germany\n",
      "Tarforst, city, 2823992, Germany\n",
      "Leipzig, city, 2879139, Germany\n",
      "Auguststadt, city, 2954132, Germany\n",
      "Dusseldorf, city, 2934246, Germany\n",
      "Friedrichswerder, city, 8379171, Germany\n",
      "Maxvorstadt, city, 6940468, Germany\n",
      "Mainz-Oberstadt, city, 8128529, Germany\n",
      "Hungary, country, 719819, None\n",
      "Lővérek, city, 8063078, Hungary\n",
      "India, country, 1269750, None\n",
      "Teen Mūrti, city, 10263306, India\n",
      "Ireland, country, 2963597, None\n",
      "Belfield, city, 6691005, Ireland\n",
      "Stephen's Green, city, 6690997, Ireland\n",
      "Shancroagh, city, 3312398, Ireland\n",
      "Italy, country, 3175395, None\n",
      "Turin, city, 3165524, Italy\n",
      "Arezzo, city, 3182884, Italy\n",
      "Esquilino, city, 6545157, Italy\n",
      "Pavia, city, 3171366, Italy\n",
      "Bergamo, city, 3182164, Italy\n",
      "Florence, city, 3176959, Italy\n",
      "Cividale del Friuli, city, 3178605, Italy\n",
      "Pinciano, city, 7521561, Italy\n",
      "Migliana, city, 8604882, Italy\n",
      "Netherlands, country, 2750405, None\n",
      "Utrecht, city, 2745912, Netherlands\n",
      "Het Spuikwartier, city, 2754207, Netherlands\n",
      "New Zealand, country, 2186224, None\n",
      "Kelburn, city, 2188922, New Zealand\n",
      "Norway, country, 3144096, None\n",
      "Blindern, city, 3160966, Norway\n",
      "Frogner, city, 6940545, Norway\n",
      "Poland, country, 798544, None\n",
      "Powiśle, city, 761340, Poland\n",
      "Osiedle Katedralna, city, 8426307, Poland\n",
      "Russia, country, 2017370, None\n",
      "Saint Petersburg, city, 498817, Russia\n",
      "Alcalá de Henares, city, 3130616, Spain\n",
      "Eixample, city, 6544100, Spain\n",
      "Serrano, city, 6545087, Spain\n",
      "Switzerland, country, 2658434, None\n",
      "Zürich (Kreis 1) / Rathaus, city, 6295483, Switzerland\n",
      "Fribourg, city, 2660718, Switzerland\n",
      "Bern / Engehalde, city, 2660903, Switzerland\n",
      "Grossbasel, city, 7645785, Switzerland\n",
      "Bern, city, 2661552, Switzerland\n",
      "St. Gallen, city, 2658822, Switzerland\n",
      "United Kingdom, country, 2635167, None\n",
      "Swansea, city, 2636432, United Kingdom\n",
      "Falmer, city, 2649716, United Kingdom\n",
      "Bassett, city, 2656185, United Kingdom\n",
      "Sheffield, city, 2638077, United Kingdom\n",
      "Earley, city, 2650555, United Kingdom\n",
      "Oxford, city, 2640729, United Kingdom\n",
      "Wilford, city, 2633903, United Kingdom\n",
      "Liverpool, city, 2644210, United Kingdom\n",
      "Leicester, city, 2644668, United Kingdom\n",
      "Dunswell, city, 2650649, United Kingdom\n",
      "Old Town, city, 7644905, United Kingdom\n",
      "Durham, city, 2650628, United Kingdom\n",
      "Cambridge, city, 2653941, United Kingdom\n",
      "Selly Park, city, 10345361, United Kingdom\n",
      "Old Aberdeen, city, 2641045, United Kingdom\n",
      "Euston, city, 6690576, United Kingdom\n",
      "Englefield Green, city, 2649992, United Kingdom\n",
      "Hove, city, 2646504, United Kingdom\n",
      "East London, city, 6692464, United Kingdom\n",
      "St James's, city, 6615507, United Kingdom\n",
      "Grassmarket, city, 7671015, United Kingdom\n",
      "Covent Garden, city, 2652222, United Kingdom\n",
      "Keele, city, 2645897, United Kingdom\n",
      "Cathays Park, city, 2653514, United Kingdom\n",
      "King's Cross, city, 6690589, United Kingdom\n",
      "London, city, 2643743, United Kingdom\n",
      "Russell Square, city, 10858976, United Kingdom\n",
      "University District, city, 7153937, United States\n",
      "McCormick Road Houses, city, 4772213, United States\n",
      "Cadboro Bay, city, 5913113, Canada\n",
      "Diamond District, city, 6944378, United States\n",
      "Eugene, city, 5725846, United States\n",
      "Chapel Hill, city, 4460162, United States\n",
      "Countryside Estates, city, 5066320, United States\n",
      "Acredale, city, 4346965, United States\n",
      "Hollywood, city, 4295089, United States\n",
      "Hyde Park, city, 4896728, United States\n",
      "Irvine, city, 5359777, United States\n",
      "La Loma Park, city, 7132042, United States\n",
      "Spear, city, 4733497, United States\n",
      "University Place, city, 4344353, United States\n",
      "Turner Village, city, 4227430, United States\n",
      "Green Acres, city, 4762018, United States\n",
      "Princeton, city, 5102922, United States\n",
      "South Evanston, city, 4911902, United States\n",
      "College Park, city, 4351977, United States\n",
      "North Edgewater, city, 4903885, United States\n",
      "Austin, city, 4671654, United States\n",
      "Westgate Heights, city, 5408363, United States\n",
      "Capitol Hill, city, 4137919, United States\n",
      "Cork Hill (historical), city, 5221655, United States\n",
      "Bowling Green, city, 5147968, United States\n",
      "Westcliff Park, city, 5320418, United States\n",
      "Canterbury, city, 2653877, United Kingdom\n",
      "Athens, city, 4505542, United States\n"
     ]
    }
   ],
   "source": [
    "for x in Place.objects.all():\n",
    "    print(\"{}, {}, {}, {}\".format(x.name, x.place_type, x.geonames_id, x.part_of))"
   ]
  },
  {
   "cell_type": "code",
   "execution_count": null,
   "metadata": {
    "collapsed": true
   },
   "outputs": [],
   "source": []
  }
 ],
 "metadata": {
  "kernelspec": {
   "display_name": "Django Shell-Plus",
   "language": "python",
   "name": "django_extensions"
  },
  "language_info": {
   "codemirror_mode": {
    "name": "ipython",
    "version": 3
   },
   "file_extension": ".py",
   "mimetype": "text/x-python",
   "name": "python",
   "nbconvert_exporter": "python",
   "pygments_lexer": "ipython3",
   "version": "3.4.4"
  }
 },
 "nbformat": 4,
 "nbformat_minor": 0
}
