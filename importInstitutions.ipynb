{
 "cells": [
  {
   "cell_type": "code",
   "execution_count": 1,
   "metadata": {
    "collapsed": true
   },
   "outputs": [],
   "source": [
    "import csv, re, requests, json"
   ]
  },
  {
   "cell_type": "code",
   "execution_count": 2,
   "metadata": {
    "collapsed": false
   },
   "outputs": [
    {
     "data": {
      "text/plain": [
       "0"
      ]
     },
     "execution_count": 2,
     "metadata": {},
     "output_type": "execute_result"
    }
   ],
   "source": [
    "len(Place.objects.all())"
   ]
  },
  {
   "cell_type": "code",
   "execution_count": 3,
   "metadata": {
    "collapsed": false
   },
   "outputs": [],
   "source": [
    "for x in Place.objects.all():\n",
    "    x.delete()\n",
    "for x in Institution.objects.all():\n",
    "    x.delete()"
   ]
  },
  {
   "cell_type": "code",
   "execution_count": 4,
   "metadata": {
    "collapsed": true
   },
   "outputs": [],
   "source": [
    "# fetch data directly from github\n",
    "# see http://stackoverflow.com/questions/35371043/use-python-requests-to-download-csv\n",
    "url = 'https://raw.githubusercontent.com/csae8092/digEds_cat/master/digEds_cat_spatial.csv'\n",
    "with requests.Session() as s:\n",
    "    download = s.get(url)\n",
    "    decoded_content = download.content.decode('utf-8')\n",
    "    cr = csv.reader(decoded_content.splitlines(), delimiter=',')\n",
    "    datalist = list(cr)"
   ]
  },
  {
   "cell_type": "code",
   "execution_count": 5,
   "metadata": {
    "collapsed": true
   },
   "outputs": [],
   "source": [
    "#load local copy of data\n",
    "#file = \"data/digEds_cat_spatial.csv\"\n",
    "#with open(file, 'r', encoding='utf-8') as data:\n",
    "    #reader = csv.reader(data)\n",
    "    #datalist = list(reader)"
   ]
  },
  {
   "cell_type": "code",
   "execution_count": 6,
   "metadata": {
    "collapsed": false
   },
   "outputs": [],
   "source": [
    "# iterats over rows in csv. sends for each lng-lat a request to geonames \n",
    "# api to fetch matching places (and the countries they are located in) \n",
    "# creates Place objects and Institution objects, relats and stores them in db.\n",
    "root = \"http://api.geonames.org/findNearbyPlaceNameJSON?lat=\"\n",
    "geoname_jsons = []\n",
    "for row in datalist:\n",
    "    if row[1] != \"\" and row[1] != \"Latitude\":\n",
    "        lat, lng = format(float(row[1]), '.3f'), format(float(row[2]), '.3f')\n",
    "        params = \"{}&lng={}&username=digitalarchiv\".format(lat, lng)\n",
    "        url = root + params\n",
    "        r = requests.get(url)\n",
    "        x =  r.json()\n",
    "        if len(x[\"geonames\"]) >= 1:\n",
    "            place_dict = x[\"geonames\"][0]\n",
    "            temp_country, _ = Place.objects.get_or_create(geonames_id=place_dict[\"countryId\"],\n",
    "                                                         name=place_dict[\"countryName\"])\n",
    "            temp_country.save()\n",
    "            temp_country.place_type = \"country\"\n",
    "            temp_country.save()\n",
    "            temp_place, _ = Place.objects.get_or_create(geonames_id=place_dict[\"geonameId\"],\n",
    "                                                        name=place_dict[\"name\"],\n",
    "                                                        place_type=\"city\",\n",
    "                                                        lat=place_dict[\"lat\"],\n",
    "                                                        lng=place_dict[\"lng\"])\n",
    "            temp_place.part_of = temp_country\n",
    "            temp_place.save()\n",
    "            temp_inst, _ = Institution.objects.get_or_create(name=row[0])\n",
    "            temp_inst.lat = row[1]\n",
    "            temp_inst.lng = row[2]\n",
    "            temp_inst.save()\n",
    "            temp_inst.place = temp_place\n",
    "            temp_inst.save()"
   ]
  },
  {
   "cell_type": "code",
   "execution_count": 7,
   "metadata": {
    "collapsed": false
   },
   "outputs": [
    {
     "name": "stdout",
     "output_type": "stream",
     "text": [
      "Countries created:  24\n",
      "Places created:  119\n",
      "Institutions created:  126\n"
     ]
    }
   ],
   "source": [
    "print(\"Countries created: \", len(Place.objects.filter(place_type=\"country\")))\n",
    "print(\"Places created: \", len(Place.objects.filter(place_type=\"city\")))\n",
    "print(\"Institutions created: \", len(Institution.objects.all()) )"
   ]
  },
  {
   "cell_type": "code",
   "execution_count": null,
   "metadata": {
    "collapsed": true
   },
   "outputs": [],
   "source": []
  }
 ],
 "metadata": {
  "kernelspec": {
   "display_name": "Django Shell-Plus",
   "language": "python",
   "name": "django_extensions"
  },
  "language_info": {
   "codemirror_mode": {
    "name": "ipython",
    "version": 3
   },
   "file_extension": ".py",
   "mimetype": "text/x-python",
   "name": "python",
   "nbconvert_exporter": "python",
   "pygments_lexer": "ipython3",
   "version": "3.4.4"
  }
 },
 "nbformat": 4,
 "nbformat_minor": 0
}
