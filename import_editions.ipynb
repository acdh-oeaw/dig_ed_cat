{
 "cells": [
  {
   "cell_type": "code",
   "execution_count": 52,
   "metadata": {
    "collapsed": true
   },
   "outputs": [],
   "source": [
    "import csv, re, requests"
   ]
  },
  {
   "cell_type": "code",
   "execution_count": 53,
   "metadata": {
    "collapsed": true
   },
   "outputs": [],
   "source": [
    "# read the data from local file\n",
    "#file = \"data/digEds_cat.csv\"\n",
    "#with open(file, 'r', encoding='utf-8') as data:\n",
    "    #reader = csv.reader(data)\n",
    "    #datalist = list(reader)"
   ]
  },
  {
   "cell_type": "code",
   "execution_count": 54,
   "metadata": {
    "collapsed": true
   },
   "outputs": [],
   "source": [
    "# fetch data directly from github\n",
    "url = 'https://raw.githubusercontent.com/gfranzini/digEds_cat/master/digEds_cat.csv'\n",
    "# see http://stackoverflow.com/questions/35371043/use-python-requests-to-download-csv\n",
    "with requests.Session() as s:\n",
    "    download = s.get(url)\n",
    "    decoded_content = download.content.decode('utf-8')\n",
    "    cr = csv.reader(decoded_content.splitlines(), delimiter=',')\n",
    "    datalist = list(cr)"
   ]
  },
  {
   "cell_type": "code",
   "execution_count": 55,
   "metadata": {
    "collapsed": false
   },
   "outputs": [],
   "source": [
    "for row in datalist:\n",
    "    if row[3] != \"\" and row[0] != \"Historical Period\":\n",
    "        temp_per, _ = Period.objects.get_or_create(name=row[0])\n",
    "        temp_ed, _ = Edition.objects.get_or_create(url=row[3])\n",
    "        temp_ed.name = row[2]\n",
    "        temp_ed.scholarly = row[4]\n",
    "        temp_ed.digital = row[5]\n",
    "        temp_ed.edition = row[6]\n",
    "        temp_ed.prototype = row[7]\n",
    "        #temp_ed.lang = row[8]\n",
    "        temp_ed.writing_support = row[9]\n",
    "        for pers in row[12].split(\";\"):\n",
    "            pers_temp, _ = Person.objects.get_or_create(name = pers.strip())\n",
    "            temp_ed.manager.add(pers_temp)\n",
    "        for inst in row[13].split(\";\"):\n",
    "            inst_temp, _ = Institution.objects.get_or_create(name = inst.strip())\n",
    "            temp_ed.institution.add(inst_temp)\n",
    "        temp_ed.audience = str(row[14])\n",
    "        temp_ed.philological_statement = str(row[15])\n",
    "        temp_ed.textual_variance = str(row[16])\n",
    "        temp_ed.value_witnesses = str(row[17])\n",
    "        temp_ed.tei_transcription = str(row[18]).strip()\n",
    "        temp_ed.download = str(row[19]).strip()\n",
    "        temp_ed.images = row[20]\n",
    "        temp_ed.zoom_images = row[21]\n",
    "        temp_ed.image_manipulation = row[22]\n",
    "        temp_ed.text_image = row[23]\n",
    "        temp_ed.glossary = row[26]\n",
    "        temp_ed.indices = row[27]\n",
    "        temp_ed.search = row[28]\n",
    "        temp_ed.advanced_search = row[29]\n",
    "        temp_ed.cc_license = row[30]\n",
    "        temp_ed.open_source = row[31]\n",
    "        temp_ed.key_or_ocr = str(row[37])\n",
    "        temp_ed.print_friendly = str(row[39])\n",
    "        temp_ed.infrastructure = str(row[45])\n",
    "        temp_ed.historical_period.add(temp_per)        \n",
    "        temp_ed.save()"
   ]
  },
  {
   "cell_type": "code",
   "execution_count": 56,
   "metadata": {
    "collapsed": false
   },
   "outputs": [
    {
     "name": "stdout",
     "output_type": "stream",
     "text": [
      "209\n",
      "170\n",
      "218\n"
     ]
    }
   ],
   "source": [
    "#count number of objects\n",
    "eds = Edition.objects.all()\n",
    "print(len(eds))\n",
    "persons = Person.objects.all()\n",
    "print(len(persons))\n",
    "inst = Institution.objects.all()\n",
    "print(len(inst))"
   ]
  },
  {
   "cell_type": "code",
   "execution_count": 48,
   "metadata": {
    "collapsed": true
   },
   "outputs": [],
   "source": [
    "#for x in eds:\n",
    "    #x.delete()"
   ]
  },
  {
   "cell_type": "code",
   "execution_count": null,
   "metadata": {
    "collapsed": true
   },
   "outputs": [],
   "source": []
  },
  {
   "cell_type": "code",
   "execution_count": null,
   "metadata": {
    "collapsed": true
   },
   "outputs": [],
   "source": []
  }
 ],
 "metadata": {
  "kernelspec": {
   "display_name": "Django Shell-Plus",
   "language": "python",
   "name": "django_extensions"
  },
  "language_info": {
   "codemirror_mode": {
    "name": "ipython",
    "version": 3
   },
   "file_extension": ".py",
   "mimetype": "text/x-python",
   "name": "python",
   "nbconvert_exporter": "python",
   "pygments_lexer": "ipython3",
   "version": "3.4.4"
  }
 },
 "nbformat": 4,
 "nbformat_minor": 0
}
