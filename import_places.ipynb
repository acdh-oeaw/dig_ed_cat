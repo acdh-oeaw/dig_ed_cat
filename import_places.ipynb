{
 "cells": [
  {
   "cell_type": "code",
   "execution_count": 1,
   "metadata": {
    "collapsed": true
   },
   "outputs": [],
   "source": [
    "import csv, re, requests"
   ]
  },
  {
   "cell_type": "code",
   "execution_count": 2,
   "metadata": {
    "collapsed": true
   },
   "outputs": [],
   "source": [
    "# read the data from local file\n",
    "file = \"data/digEds_cat_spatial.csv\"\n",
    "with open(file, 'r', encoding='utf-8') as data:\n",
    "    reader = csv.reader(data)\n",
    "    datalist = list(reader)"
   ]
  },
  {
   "cell_type": "code",
   "execution_count": 4,
   "metadata": {
    "collapsed": true
   },
   "outputs": [],
   "source": [
    "# fetch data directly from github\n",
    "# see http://stackoverflow.com/questions/35371043/use-python-requests-to-download-csv\n",
    "#url = 'https://raw.githubusercontent.com/gfranzini/digEds_cat/master/digEds_cat_spatial.csv'\n",
    "#with requests.Session() as s:\n",
    "    #download = s.get(url)\n",
    "    #decoded_content = download.content.decode('utf-8')\n",
    "    #cr = csv.reader(decoded_content.splitlines(), delimiter=',')\n",
    "    #datalist = list(cr)"
   ]
  },
  {
   "cell_type": "code",
   "execution_count": 3,
   "metadata": {
    "collapsed": false
   },
   "outputs": [
    {
     "data": {
      "text/plain": [
       "231"
      ]
     },
     "execution_count": 3,
     "metadata": {},
     "output_type": "execute_result"
    }
   ],
   "source": [
    "for row in datalist:\n",
    "    if row[1] != \"\" and row[1] != \"Latitude\":\n",
    "        temp_place, _ = Place.objects.get_or_create(\n",
    "            lat=float(row[1]), lng=float(row[2])\n",
    "        )\n",
    "        temp_country, _ = Place.objects.get_or_create(\n",
    "            name=row[3]\n",
    "        )\n",
    "        temp_place.part_of = temp_country\n",
    "        temp_place.save()\n",
    "        temp_inst, _ = Institution.objects.get_or_create(\n",
    "            name = str(row[0]).strip()\n",
    "        )\n",
    "        temp_inst.place.add(temp_place)\n",
    "len(Place.objects.all())\n",
    "len(Institution.objects.all())"
   ]
  },
  {
   "cell_type": "code",
   "execution_count": null,
   "metadata": {
    "collapsed": true
   },
   "outputs": [],
   "source": []
  }
 ],
 "metadata": {
  "kernelspec": {
   "display_name": "Django Shell-Plus",
   "language": "python",
   "name": "django_extensions"
  },
  "language_info": {
   "codemirror_mode": {
    "name": "ipython",
    "version": 3
   },
   "file_extension": ".py",
   "mimetype": "text/x-python",
   "name": "python",
   "nbconvert_exporter": "python",
   "pygments_lexer": "ipython3",
   "version": "3.4.4"
  }
 },
 "nbformat": 4,
 "nbformat_minor": 0
}
